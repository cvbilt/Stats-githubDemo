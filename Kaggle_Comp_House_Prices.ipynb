{
  "cells": [
    {
      "cell_type": "markdown",
      "metadata": {
        "id": "view-in-github",
        "colab_type": "text"
      },
      "source": [
        "<a href=\"https://colab.research.google.com/github/cvbilt/Stats-githubDemo/blob/master/Kaggle_Comp_House_Prices.ipynb\" target=\"_parent\"><img src=\"https://colab.research.google.com/assets/colab-badge.svg\" alt=\"Open In Colab\"/></a>"
      ]
    },
    {
      "cell_type": "code",
      "source": [
        "from google.colab import drive\n",
        "\n",
        "# Mount Google Drive\n",
        "drive.mount('/content/drive')\n"
      ],
      "metadata": {
        "id": "KaPG-kYl1LVu"
      },
      "execution_count": null,
      "outputs": []
    }
  ],
  "metadata": {
    "colab": {
      "collapsed_sections": [
        "HhEv6gNLT0gw",
        "njnQf94HZpQu",
        "JGIdQeAJOJgl",
        "ZXQxurStAd6a",
        "oxoRtvBnTvsX",
        "pCnrsldONC5k",
        "SXtjswh8D7uK",
        "8bynAJcgz6gW",
        "9XKoARe2nJV8",
        "IYfVS03rw8bZ"
      ],
      "provenance": [],
      "mount_file_id": "1CXn3vehLCiQF8QuuoIyPWt8sfB89SxUP",
      "authorship_tag": "ABX9TyOskiFGESRLxLD82+pRpizJ",
      "include_colab_link": true
    },
    "kernelspec": {
      "display_name": "Python 3",
      "name": "python3"
    },
    "language_info": {
      "name": "python"
    }
  },
  "nbformat": 4,
  "nbformat_minor": 0
}